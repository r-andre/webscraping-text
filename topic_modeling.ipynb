{
 "metadata": {
  "language_info": {
   "codemirror_mode": {
    "name": "ipython",
    "version": 3
   },
   "file_extension": ".py",
   "mimetype": "text/x-python",
   "name": "python",
   "nbconvert_exporter": "python",
   "pygments_lexer": "ipython3",
   "version": "3.7.9-final"
  },
  "orig_nbformat": 2,
  "kernelspec": {
   "name": "python_defaultSpec_1600849802495",
   "display_name": "Python 3.7.9 64-bit ('base': conda)"
  }
 },
 "nbformat": 4,
 "nbformat_minor": 2,
 "cells": [
  {
   "cell_type": "code",
   "execution_count": null,
   "metadata": {},
   "outputs": [],
   "source": [
    "from sklearn.feature_extraction.text import CountVectorizer\n",
    "from sklearn.decomposition import LatentDirichletAllocation\n",
    "from sklearn.decomposition import NMF # alternative to Latent Dirichlet approach\n",
    "import pandas as pd\n",
    "import numpy as np\n",
    "import sqlite3"
   ]
  },
  {
   "cell_type": "code",
   "execution_count": null,
   "metadata": {},
   "outputs": [],
   "source": [
    "base = 'stage.db' # SQLite database\n",
    "table = 'Startups100' # table of interest"
   ]
  },
  {
   "cell_type": "code",
   "execution_count": null,
   "metadata": {},
   "outputs": [],
   "source": [
    "conn = sqlite3.connect('stage.db') # establishing connection to database\n",
    "data = pd.read_sql(\"SELECT * FROM token_\" + table, conn) # reading table from database"
   ]
  },
  {
   "cell_type": "code",
   "execution_count": null,
   "metadata": {},
   "outputs": [],
   "source": [
    "min_df = 0.05 # minimum document frequency of term\n",
    "max_df = 0.90 # maximum document frequency of term"
   ]
  },
  {
   "cell_type": "code",
   "execution_count": null,
   "metadata": {},
   "outputs": [],
   "source": [
    "vec = CountVectorizer(max_df=max_df, min_df=min_df) # defining the vectorizer\n",
    "vec.fit_transform(data['Text']) # vectorizing the text data\n",
    "tf = vec.fit_transform(data['Text']).toarray() # exctracting term frequencies\n",
    "features = vec.get_feature_names() # extracting all feature names"
   ]
  },
  {
   "cell_type": "code",
   "execution_count": null,
   "metadata": {},
   "outputs": [],
   "source": [
    "scores = [] # perplexity scores for number of topics\n",
    "for i in range(1, 25):\n",
    "    model = LatentDirichletAllocation(n_components=i, random_state=42) # defining the Latent Dirichlet Allocation model\n",
    "    model.fit(tf) # fitting the model to the data\n",
    "    scores.append(model.bound_)"
   ]
  },
  {
   "cell_type": "code",
   "execution_count": null,
   "metadata": {},
   "outputs": [],
   "source": [
    "import matplotlib.pyplot as plt\n",
    "plt.plot(topics, scores)\n",
    "plt.plot([4, 4], [min(scores), max(scores)], '--')\n",
    "plt.xticks([i for i in topics if i % 2 == 0])\n",
    "plt.show()"
   ]
  },
  {
   "cell_type": "code",
   "execution_count": null,
   "metadata": {},
   "outputs": [],
   "source": [
    "no_topics = 4 # number of topics to model\n",
    "no_terms = 10 # number of terms to describe topic"
   ]
  },
  {
   "cell_type": "code",
   "execution_count": null,
   "metadata": {},
   "outputs": [],
   "source": [
    "model = LatentDirichletAllocation(n_components=no_topics, random_state=42) # defining the Latent Dirichlet Allocation model\n",
    "model.fit(tf) # fitting the model to the data"
   ]
  },
  {
   "cell_type": "code",
   "execution_count": null,
   "metadata": {},
   "outputs": [],
   "source": [
    "topic_dict = {}\n",
    "for topic_id, topic in enumerate(model.components_):\n",
    "    topic_dict['Topic %d word' % (topic_id)] = ['{}'.format(features[i]) for i in topic.argsort()[:-10 - 1:-1]]\n",
    "    topic_dict['Topic %d weight' % (topic_id)] = ['{}'.format(topic[i]) for i in topic.argsort()[:-10 - 1:-1]]\n",
    "results = pd.DataFrame(topic_dict)"
   ]
  },
  {
   "cell_type": "code",
   "execution_count": null,
   "metadata": {},
   "outputs": [],
   "source": [
    "results"
   ]
  },
  {
   "cell_type": "code",
   "execution_count": null,
   "metadata": {},
   "outputs": [],
   "source": []
  }
 ]
}